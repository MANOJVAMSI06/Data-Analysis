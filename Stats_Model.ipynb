{
  "nbformat": 4,
  "nbformat_minor": 0,
  "metadata": {
    "colab": {
      "provenance": [],
      "authorship_tag": "ABX9TyMob5vdIp4p6HRpE1CTbcpp",
      "include_colab_link": true
    },
    "kernelspec": {
      "name": "python3",
      "display_name": "Python 3"
    },
    "language_info": {
      "name": "python"
    }
  },
  "cells": [
    {
      "cell_type": "markdown",
      "metadata": {
        "id": "view-in-github",
        "colab_type": "text"
      },
      "source": [
        "<a href=\"https://colab.research.google.com/github/MANOJVAMSI06/Data-Analysis/blob/main/Stats_Model.ipynb\" target=\"_parent\"><img src=\"https://colab.research.google.com/assets/colab-badge.svg\" alt=\"Open In Colab\"/></a>"
      ]
    },
    {
      "cell_type": "code",
      "execution_count": null,
      "metadata": {
        "colab": {
          "base_uri": "https://localhost:8080/"
        },
        "id": "mP7Xvg-lRSH8",
        "outputId": "d9cda059-d671-486b-bc81-e830a1fada44"
      },
      "outputs": [
        {
          "output_type": "stream",
          "name": "stdout",
          "text": [
            "Requirement already satisfied: scipy in /usr/local/lib/python3.10/dist-packages (1.11.4)\n",
            "Requirement already satisfied: numpy<1.28.0,>=1.21.6 in /usr/local/lib/python3.10/dist-packages (from scipy) (1.25.2)\n"
          ]
        }
      ],
      "source": [
        "pip install scipy\n"
      ]
    },
    {
      "cell_type": "code",
      "source": [
        "import scipy\n",
        "from scipy import integrate\n",
        "result,error=integrate.quad(lambda x:x**2,0,1)\n",
        "print(\"Result\",result)\n",
        "print(\"Error:\",error)"
      ],
      "metadata": {
        "colab": {
          "base_uri": "https://localhost:8080/"
        },
        "id": "9t94laATTHxl",
        "outputId": "e1697979-90ac-42ef-90e6-760e3c5d2a01"
      },
      "execution_count": null,
      "outputs": [
        {
          "output_type": "stream",
          "name": "stdout",
          "text": [
            "Result 0.33333333333333337\n",
            "Error: 3.700743415417189e-15\n"
          ]
        }
      ]
    },
    {
      "cell_type": "code",
      "source": [],
      "metadata": {
        "id": "mM5ZVCZfY-Il"
      },
      "execution_count": null,
      "outputs": []
    },
    {
      "cell_type": "code",
      "source": [
        "square=lambda x:x**2\n",
        "result=square(5)\n",
        "print(\"Result\",result)"
      ],
      "metadata": {
        "colab": {
          "base_uri": "https://localhost:8080/"
        },
        "id": "TtrckIZcTtaE",
        "outputId": "785e399b-8ccf-4b4d-db1f-9e118e4de48a"
      },
      "execution_count": null,
      "outputs": [
        {
          "output_type": "stream",
          "name": "stdout",
          "text": [
            "Result 25\n"
          ]
        }
      ]
    },
    {
      "cell_type": "code",
      "source": [
        "import numpy as np\n",
        "from scipy import optimize\n",
        "result_optimization=optimize.minimize_scalar(lambda x:x**2+3*x+5)\n",
        "print(\"OPtimization Result:\",result_optimization.x)"
      ],
      "metadata": {
        "colab": {
          "base_uri": "https://localhost:8080/"
        },
        "id": "xOlscsHEWK8y",
        "outputId": "c68f9e28-7149-477b-bb38-b6f1784374ca"
      },
      "execution_count": null,
      "outputs": [
        {
          "output_type": "stream",
          "name": "stdout",
          "text": [
            "OPtimization Result: -1.5000000000000002\n"
          ]
        }
      ]
    },
    {
      "cell_type": "code",
      "source": [
        "import numpy as np\n",
        "from scipy import interpolate\n",
        "x_data=np.array([0,1,2,3,4])\n",
        "y_data=np.array([0,2,1,3,5])\n",
        "interp_func=interpolate.interp1d(x_data,y_data,kind='linear')\n",
        "interp_result=interp_func(2.5)\n",
        "print(\"Interplotation Result:\",interp_result)"
      ],
      "metadata": {
        "colab": {
          "base_uri": "https://localhost:8080/"
        },
        "id": "0goY24rwY_IF",
        "outputId": "503259ed-9971-4300-dfc6-a2971f9950f5"
      },
      "execution_count": null,
      "outputs": [
        {
          "output_type": "stream",
          "name": "stdout",
          "text": [
            "Interplotation Result: 2.0\n"
          ]
        }
      ]
    },
    {
      "cell_type": "code",
      "source": [
        "import numpy as np\n",
        "from scipy import interpolate\n",
        "import matplotlib.pyplot as plt\n",
        "\n",
        "x_data = np.array([0, 1, 2, 3, 4])\n",
        "y_data = np.array([0, 2, 1, 3, 5])\n",
        "interp_func = interpolate.interp1d(x_data, y_data, kind='linear')\n",
        "interp_result = interp_func(2.5)\n",
        "print(\"Interpolation Result:\", interp_result)\n",
        "\n",
        "\n",
        "\n",
        "\n",
        "\n",
        "\n"
      ],
      "metadata": {
        "colab": {
          "base_uri": "https://localhost:8080/"
        },
        "id": "HZ6Szbo7aZ6D",
        "outputId": "032e1b47-22c6-455e-9a83-4ee241b735da"
      },
      "execution_count": null,
      "outputs": [
        {
          "output_type": "stream",
          "name": "stdout",
          "text": [
            "Interpolation Result: 2.0\n"
          ]
        }
      ]
    },
    {
      "cell_type": "code",
      "source": [
        "\n",
        "x_new = np.linspace(0, 4, 100)\n",
        "y_new = interp_func(x_new)\n",
        "\n",
        "plt.figure()\n",
        "plt.plot(x_data, y_data, 'o', )\n",
        "plt.plot(x_new, y_new, '-',)\n",
        "plt.plot(2.5, interp_result, 'ro', label='Interpolated Point (x=2.5)')\n",
        "plt.legend()\n",
        "plt.xlabel('x')\n",
        "plt.ylabel('y')\n",
        "plt.title('Linear Interpolation')\n",
        "plt.show()"
      ],
      "metadata": {
        "colab": {
          "base_uri": "https://localhost:8080/",
          "height": 472
        },
        "id": "jweTsmLhamYP",
        "outputId": "34ed5ec0-6728-4bf2-f2d8-173b13c91a97"
      },
      "execution_count": null,
      "outputs": [
        {
          "output_type": "display_data",
          "data": {
            "text/plain": [
              "<Figure size 640x480 with 1 Axes>"
            ],
            "image/png": "[encoded data removed]"
          },
          "metadata": {}
        }
      ]
    },
    {
      "cell_type": "code",
      "source": [
        "import numpy as np\n",
        "import pandas as pd\n",
        "import scipy.stats as stats\n",
        "import statsmodels.api as sm"
      ],
      "metadata": {
        "id": "l61_yS4Ta9Ti"
      },
      "execution_count": null,
      "outputs": []
    },
    {
      "cell_type": "code",
      "source": [
        "#generate sample data\n",
        "\n",
        "np.random.seed(0)\n",
        "data=pd.DataFrame(\n",
        "    {\n",
        "        'Treatment': np.random.choice(['A','B','C'],size=100),\n",
        "        'Score': np.random.normal(loc=10,scale=2,size=100)\n",
        "    }\n",
        ")\n",
        "print(data)\n",
        "scoremean=data['Score'].mean()\n",
        "print(scoremean)"
      ],
      "metadata": {
        "colab": {
          "base_uri": "https://localhost:8080/"
        },
        "id": "tHTJVJ_DcARH",
        "outputId": "96fa9300-2241-4fb6-bfab-0d4c3d85bbf4"
      },
      "execution_count": null,
      "outputs": [
        {
          "output_type": "stream",
          "name": "stdout",
          "text": [
            "   Treatment      Score\n",
            "0          A   8.626821\n",
            "1          B  10.029747\n",
            "2          A   9.248668\n",
            "3          B   9.923553\n",
            "4          B  10.735949\n",
            "..       ...        ...\n",
            "95         A   9.933528\n",
            "96         C  10.131283\n",
            "97         A  10.531571\n",
            "98         B  12.303684\n",
            "99         C  10.276086\n",
            "\n",
            "[100 rows x 2 columns]\n",
            "9.885027355938945\n"
          ]
        }
      ]
    },
    {
      "cell_type": "code",
      "source": [],
      "metadata": {
        "id": "qF8deEtov0aw"
      },
      "execution_count": null,
      "outputs": []
    },
    {
      "cell_type": "code",
      "source": [
        "import random\n",
        "random.seed(0)\n",
        "print(random.random())\n",
        "print(random.random())"
      ],
      "metadata": {
        "colab": {
          "base_uri": "https://localhost:8080/"
        },
        "id": "DPU36haTdHBJ",
        "outputId": "ca99da5a-ab89-45e5-f7e1-fe48bb1cef22"
      },
      "execution_count": null,
      "outputs": [
        {
          "output_type": "stream",
          "name": "stdout",
          "text": [
            "0.8444218515250481\n",
            "0.7579544029403025\n"
          ]
        }
      ]
    },
    {
      "cell_type": "code",
      "source": [
        "group_A=data[data['Treatment']=='A']['Score']\n",
        "group_B=data[data['Treatment']=='B']['Score']\n",
        "t_stat,p_value=stats.ttest_ind(group_A,group_B)\n",
        "print(\"t-ststistic:\",t_stat)\n",
        "print(\"p-value:\",p_value)"
      ],
      "metadata": {
        "colab": {
          "base_uri": "https://localhost:8080/"
        },
        "id": "KrbNnYPCfhfV",
        "outputId": "bd5199e8-be58-4cd9-f423-3be9cb776c1b"
      },
      "execution_count": null,
      "outputs": [
        {
          "output_type": "stream",
          "name": "stdout",
          "text": [
            "t-ststistic: -1.0341676575352792\n",
            "p-value: 0.3045674995802033\n"
          ]
        }
      ]
    },
    {
      "cell_type": "code",
      "source": [
        "import numpy as np\n",
        "import pandas as pd\n",
        "import scipy.stats as stats\n",
        "import statsmodels.api as sm\n",
        "\n",
        "np.random.seed(0)\n",
        "data=pd.DataFrame(\n",
        "    {\n",
        "        'Treatment': np.random.choice(['A','B','C'],size=100),\n",
        "        'Score': np.random.normal(loc=10,scale=2,size=100)\n",
        "    }\n",
        ")\n",
        "print(data)"
      ],
      "metadata": {
        "id": "_xvlPmGNd95u",
        "colab": {
          "base_uri": "https://localhost:8080/"
        },
        "outputId": "f77fdeb8-067a-4410-a729-b41192030f22"
      },
      "execution_count": null,
      "outputs": [
        {
          "output_type": "stream",
          "name": "stdout",
          "text": [
            "   Treatment      Score\n",
            "0          A   8.626821\n",
            "1          B  10.029747\n",
            "2          A   9.248668\n",
            "3          B   9.923553\n",
            "4          B  10.735949\n",
            "..       ...        ...\n",
            "95         A   9.933528\n",
            "96         C  10.131283\n",
            "97         A  10.531571\n",
            "98         B  12.303684\n",
            "99         C  10.276086\n",
            "\n",
            "[100 rows x 2 columns]\n"
          ]
        }
      ]
    },
    {
      "cell_type": "code",
      "source": [],
      "metadata": {
        "id": "iw1yfx5ywhg6"
      },
      "execution_count": null,
      "outputs": []
    },
    {
      "cell_type": "code",
      "source": [
        "treatment_counts = data['Treatment'].value_counts()\n",
        "print(treatment_counts)"
      ],
      "metadata": {
        "colab": {
          "base_uri": "https://localhost:8080/"
        },
        "id": "80G1FIGQmcz3",
        "outputId": "bd1eeabe-e19a-4a91-d406-8fac51d0dbba"
      },
      "execution_count": null,
      "outputs": [
        {
          "output_type": "stream",
          "name": "stdout",
          "text": [
            "A    39\n",
            "B    34\n",
            "C    27\n",
            "Name: Treatment, dtype: int64\n"
          ]
        }
      ]
    },
    {
      "cell_type": "code",
      "source": [
        "score_mean = data['Score'].mean()\n",
        "print(\"Mean Score:\", score_mean)"
      ],
      "metadata": {
        "colab": {
          "base_uri": "https://localhost:8080/"
        },
        "id": "qbOQUuXGmc3U",
        "outputId": "bdd4973c-de21-4b80-9382-43d728e85fe7"
      },
      "execution_count": null,
      "outputs": [
        {
          "output_type": "stream",
          "name": "stdout",
          "text": [
            "Mean Score: 9.885027355938945\n"
          ]
        }
      ]
    },
    {
      "cell_type": "code",
      "source": [
        "counts = {'A': 39, 'B': 34, 'C': 27}\n",
        "counts_df = pd.DataFrame({'Treatment': list(counts.keys()), 'Count': list(counts.values())})\n",
        "merged_data = pd.merge(data, counts_df, on='Treatment')\n",
        "mean_scores = (merged_data['Score'] * merged_data['Count']).sum() / merged_data['Count'].sum()\n",
        "print(\" Mean Score of A, B, C Treatment:\",mean_scores)\n",
        "\n"
      ],
      "metadata": {
        "colab": {
          "base_uri": "https://localhost:8080/"
        },
        "id": "7V49GfV2nu-e",
        "outputId": "1fd7d24b-3008-41ee-bcc9-0ac2b93bda30"
      },
      "execution_count": null,
      "outputs": [
        {
          "output_type": "stream",
          "name": "stdout",
          "text": [
            " Mean Score of A, B, C Treatment: 9.862380799009028\n"
          ]
        }
      ]
    },
    {
      "cell_type": "code",
      "source": [
        "data = {'mean_scores': [9.862380799009028], 'score_mean': [9.885027355938945]}"
      ],
      "metadata": {
        "id": "90lYZzjXtNcu"
      },
      "execution_count": null,
      "outputs": []
    },
    {
      "cell_type": "code",
      "source": [
        "df = pd.DataFrame(data)"
      ],
      "metadata": {
        "id": "g2-PxA8otXRf"
      },
      "execution_count": null,
      "outputs": []
    },
    {
      "cell_type": "code",
      "source": [
        "group_A = df['mean_scores']\n",
        "group_B = df['score_mean']\n",
        "t_stat,p_value=stats.ttest_ind(group_A,group_B)\n",
        "print(\"t-ststistic:\",t_stat)\n",
        "print(\"p-value:\",p_value)"
      ],
      "metadata": {
        "colab": {
          "base_uri": "https://localhost:8080/"
        },
        "id": "t7mUn3JetaNB",
        "outputId": "07ee1d0d-5836-445e-af1a-3ca797740423"
      },
      "execution_count": null,
      "outputs": [
        {
          "output_type": "stream",
          "name": "stdout",
          "text": [
            "t-ststistic: nan\n",
            "p-value: nan\n"
          ]
        }
      ]
    },
    {
      "cell_type": "code",
      "source": [
        "import numpy as np\n",
        "\n",
        "# Set the seed to 0\n",
        "np.random.seed(0)\n",
        "\n",
        "# Generate some random numbers\n",
        "random_numbers = np.random.randint(5)\n",
        "\n",
        "print(random_numbers)"
      ],
      "metadata": {
        "id": "3b_NeJ97tyIX",
        "colab": {
          "base_uri": "https://localhost:8080/"
        },
        "outputId": "4cd5d4b6-af0d-45ba-ee3b-8a75b9803d06"
      },
      "execution_count": null,
      "outputs": [
        {
          "output_type": "stream",
          "name": "stdout",
          "text": [
            "4\n"
          ]
        }
      ]
    },
    {
      "cell_type": "code",
      "source": [
        "import numpy as np\n",
        "\n",
        "# Set a seed for reproducibility (optional)\n",
        "np.random.seed(0)\n",
        "\n",
        "# Generate an array of 100 random integers between a specified range\n",
        "random_integers = np.random.randint(low=0, high=100, size=100)\n",
        "\n",
        "print(random_integers)"
      ],
      "metadata": {
        "colab": {
          "base_uri": "https://localhost:8080/"
        },
        "id": "_xWOQyr9v6yf",
        "outputId": "c2f97d8c-5d01-4707-ca76-d8a392521df2"
      },
      "execution_count": null,
      "outputs": [
        {
          "output_type": "stream",
          "name": "stdout",
          "text": [
            "[44 47 64 67 67  9 83 21 36 87 70 88 88 12 58 65 39 87 46 88 81 37 25 77\n",
            " 72  9 20 80 69 79 47 64 82 99 88 49 29 19 19 14 39 32 65  9 57 32 31 74\n",
            " 23 35 75 55 28 34  0  0 36 53  5 38 17 79  4 42 58 31  1 65 41 57 35 11\n",
            " 46 82 91  0 14 99 53 12 42 84 75 68  6 68 47  3 76 52 78 15 20 99 58 23\n",
            " 79 13 85 48]\n"
          ]
        }
      ]
    },
    {
      "cell_type": "code",
      "source": [
        "np.random.seed(0)\n",
        "data = pd.DataFrame({\n",
        "    'column1': np.random.normal(loc=10, scale =1, size=100),\n",
        "    'column2': np.random.normal(loc=10, scale=1, size=100)\n",
        "})\n",
        "print(data)\n",
        "group_A = data['column1']\n",
        "group_B = data['column2']\n",
        "\n",
        "print(\"Mean of column1\",np.mean(group_A))\n",
        "print(\"\\n\")\n",
        "print(\"Mean of column2\",np.mean(group_B))\n",
        "print(\"\\n\")\n",
        "t_stat, p_value = stats.ttest_ind(group_A, group_B)\n",
        "print(\"t-statistical:\", t_stat)\n",
        "print(\"p-value:\", p_value)"
      ],
      "metadata": {
        "colab": {
          "base_uri": "https://localhost:8080/"
        },
        "id": "Sj8QJ79bv_Y-",
        "outputId": "efaa29a7-08ac-4aaa-e75b-ea90d4a05190"
      },
      "execution_count": null,
      "outputs": [
        {
          "output_type": "stream",
          "name": "stdout",
          "text": [
            "      column1    column2\n",
            "0   11.764052  11.883151\n",
            "1   10.400157   8.652241\n",
            "2   10.978738   8.729515\n",
            "3   12.240893  10.969397\n",
            "4   11.867558   8.826877\n",
            "..        ...        ...\n",
            "95  10.706573   9.828454\n",
            "96  10.010500  10.771791\n",
            "97  11.785870  10.823504\n",
            "98  10.126912  12.163236\n",
            "99  10.401989  11.336528\n",
            "\n",
            "[100 rows x 2 columns]\n",
            "Mean of column1 10.059808015534484\n",
            "\n",
            "\n",
            "Mean of column2 10.082012970747837\n",
            "\n",
            "\n",
            "t-statistical: -0.15295815048595499\n",
            "p-value: 0.8785870431170584\n"
          ]
        }
      ]
    },
    {
      "cell_type": "code",
      "source": [
        "np.random.seed(0)\n",
        "data = pd.DataFrame({\n",
        "    'column1': np.random.normal(loc=10, scale =1, size=100),\n",
        "    'column2': np.random.normal(loc=10, scale=1, size=100)\n",
        "})\n",
        "print(data)\n",
        "group_A = data['column1']\n",
        "group_B = data['column2']\n",
        "\n",
        "print(\"Mean of column1\",np.mean(group_A))\n",
        "print(\"\\n\")\n",
        "print(\"Mean of column2\",np.mean(group_B))\n",
        "print(\"\\n\")\n",
        "f_stat, p_value = stats.f_oneway(group_A,group_B)\n",
        "print(\"F-statistic:\", f_stat)\n",
        "print(\"p_value\", p_value)"
      ],
      "metadata": {
        "colab": {
          "base_uri": "https://localhost:8080/"
        },
        "id": "COzZQC1azpK-",
        "outputId": "9f2394c6-59ed-4fc9-e6db-cb53b00ec66d"
      },
      "execution_count": null,
      "outputs": [
        {
          "output_type": "stream",
          "name": "stdout",
          "text": [
            "      column1    column2\n",
            "0   11.764052  11.883151\n",
            "1   10.400157   8.652241\n",
            "2   10.978738   8.729515\n",
            "3   12.240893  10.969397\n",
            "4   11.867558   8.826877\n",
            "..        ...        ...\n",
            "95  10.706573   9.828454\n",
            "96  10.010500  10.771791\n",
            "97  11.785870  10.823504\n",
            "98  10.126912  12.163236\n",
            "99  10.401989  11.336528\n",
            "\n",
            "[100 rows x 2 columns]\n",
            "Mean of column1 10.059808015534484\n",
            "\n",
            "\n",
            "Mean of column2 10.082012970747837\n",
            "\n",
            "\n",
            "F-statistic: 0.02339619580008433\n",
            "p_value 0.8785870431170945\n"
          ]
        }
      ]
    }
  ]
}